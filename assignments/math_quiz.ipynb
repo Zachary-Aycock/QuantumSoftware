{
 "cells": [
  {
   "cell_type": "markdown",
   "metadata": {},
   "source": [
    "# Math Quiz \n",
    "Enter an answer for each question in the markdown box"
   ]
  },
  {
   "attachments": {},
   "cell_type": "markdown",
   "metadata": {},
   "source": [
    "---\n",
    "## Question 1:\n",
    "Evaluate derivative with respect to $x$:\n",
    "$$\n",
    "f(x) = x^4e^{\\left(2x+a\\right)^2}\n",
    "$$\n"
   ]
  },
  {
   "attachments": {},
   "cell_type": "markdown",
   "metadata": {},
   "source": [
    "$df(x)/dx = 4(x^3) * e^{\\left(2x+a\\right)^2} + (x^4) * 4(2x+a) * e^{\\left(2x+a\\right)^2}$"
   ]
  },
  {
   "attachments": {},
   "cell_type": "markdown",
   "metadata": {},
   "source": [
    "---\n",
    "## Question 2:\n",
    "Evaluate the following integral:\n",
    "$$\n",
    "\\int_{-1}^{2} 5t^4\\;dt\n",
    "$$\n"
   ]
  },
  {
   "attachments": {},
   "cell_type": "markdown",
   "metadata": {},
   "source": [
    "$\\int_{-1}^{2} 5t^4\\;dt = 33$"
   ]
  },
  {
   "attachments": {},
   "cell_type": "markdown",
   "metadata": {},
   "source": [
    "---\n",
    "## Question 3:\n",
    "If, $\\hat{A} = \\hat{A}^\\dagger$, what kind of operator is $\\hat{A}$?"
   ]
  },
  {
   "attachments": {},
   "cell_type": "markdown",
   "metadata": {},
   "source": [
    "Hermation operator"
   ]
  },
  {
   "attachments": {},
   "cell_type": "markdown",
   "metadata": {},
   "source": [
    "---\n",
    "## Question 4:\n",
    "If, $\\hat{A}\\hat{A}^\\dagger=\\hat{A}^\\dagger\\hat{A}=\\hat{I}$, what kind of operator is $\\hat{A}$?"
   ]
  },
  {
   "attachments": {},
   "cell_type": "markdown",
   "metadata": {},
   "source": [
    "Unitary operator"
   ]
  },
  {
   "attachments": {},
   "cell_type": "markdown",
   "metadata": {},
   "source": [
    "---\n",
    "## Question 5:\n",
    "If, $\\hat{A}\\hat{A}=\\hat{A}$, what kind of operator is $\\hat{A}$?"
   ]
  },
  {
   "attachments": {},
   "cell_type": "markdown",
   "metadata": {},
   "source": [
    "Idempotent operator"
   ]
  },
  {
   "attachments": {},
   "cell_type": "markdown",
   "metadata": {},
   "source": [
    "---\n",
    "## Question 6:\n",
    "If $\\hat{A}$ is Idempotent and Involutory, what is $\\hat{A}$?"
   ]
  },
  {
   "attachments": {},
   "cell_type": "markdown",
   "metadata": {},
   "source": [
    "$\\hat{A}$ would be an Identity matrix"
   ]
  },
  {
   "attachments": {},
   "cell_type": "markdown",
   "metadata": {},
   "source": [
    "---\n",
    "## Question 7:\n",
    "Given the following relationship, $\\hat{A}\\ket{v_i} = a_i\\ket{v_i}$, define the following quantities: \n",
    "\t\n",
    "- $a_i$ :\n",
    "- $\\ket{v_i}$ :"
   ]
  },
  {
   "attachments": {},
   "cell_type": "markdown",
   "metadata": {},
   "source": [
    "$a_i$: eigenvalue of $\\hat{A}$\n",
    "\n",
    "$\\ket{v_i}$: eigenvector of $\\hat{A}$"
   ]
  },
  {
   "attachments": {},
   "cell_type": "markdown",
   "metadata": {},
   "source": [
    "---\n",
    "## Question 8:\n",
    " Given the following :\n",
    "- $\\mathbf{x} = \\begin{pmatrix}a\\\\b\\end{pmatrix}$\n",
    "- $\\mathbf{y} = \\begin{pmatrix}c\\\\d\\end{pmatrix}$\n",
    "- $\\mathbf{X} = \\begin{pmatrix}a & b \\\\ c & d\\end{pmatrix}$\n",
    "- $\\mathbf{Y} = \\begin{pmatrix}c & d \\\\ e & f\\end{pmatrix}$\n",
    "\n",
    "Compute: \n",
    "1. $\\mathbf{Y}\\mathbf{x} = ?$\n",
    "1. $\\mathbf{x}^\\dagger\\mathbf{Y} = ?$\n",
    "1. $\\mathbf{X}^\\dagger\\mathbf{Y} = ?$ \n",
    "1. $Trace(\\hat{X}) = ?$"
   ]
  },
  {
   "attachments": {},
   "cell_type": "markdown",
   "metadata": {},
   "source": [
    "1. $\\mathbf{Y}\\mathbf{x} = \\begin{pmatrix}ac+db \\\\ ea+fb\\end{pmatrix}$\n",
    "2. $\\mathbf{x}^\\dagger\\mathbf{Y} = \\begin{pmatrix}ac+be & ad+bf\\end{pmatrix}$\n",
    "3. $\\mathbf{X}^\\dagger\\mathbf{Y} = \\begin{pmatrix}ac+ce & ad+cf \\\\ bc+de & bd+df\\end{pmatrix}$ \n",
    "4. $Trace(\\hat{X}) = a*d $"
   ]
  },
  {
   "attachments": {},
   "cell_type": "markdown",
   "metadata": {},
   "source": [
    "---\n",
    "## Question 9:\n",
    "Compute the following commutator: $\\left[\\begin{pmatrix} 1 & 2 \\\\ 3 & 4\\end{pmatrix},\\begin{pmatrix} 5 & 6 \\\\ 7 & 8\\end{pmatrix}\\right]$"
   ]
  },
  {
   "attachments": {},
   "cell_type": "markdown",
   "metadata": {},
   "source": [
    "$Commutator = \\left[\\begin{pmatrix} 19-23 & 22-34 \\\\ 43-31 & 50-46\\end{pmatrix}\\right] = \n",
    "\\left[\\begin{pmatrix} -4 & -12 \\\\ 12 & 4\\end{pmatrix}\\right]$"
   ]
  }
 ],
 "metadata": {
  "kernelspec": {
   "display_name": "molssi_best_practices",
   "language": "python",
   "name": "python3"
  },
  "language_info": {
   "name": "python",
   "version": "3.11.7"
  },
  "orig_nbformat": 4
 },
 "nbformat": 4,
 "nbformat_minor": 2
}
